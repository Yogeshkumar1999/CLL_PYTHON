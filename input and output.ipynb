{
 "cells": [
  {
   "cell_type": "markdown",
   "metadata": {},
   "source": [
    "<h1 align=\"center\"> Input And Output</h1>"
   ]
  },
  {
   "cell_type": "markdown",
   "metadata": {},
   "source": [
    "#### Python provides numerous built-in functions that are readily available to us at the Python prompt.\n",
    "\n",
    "#### Some of the functions like input() and print() are widely used for standard input and output operations respectively. Let us see the output section first.\n",
    "#### print() is for output and input() for taking input from the user."
   ]
  },
  {
   "cell_type": "markdown",
   "metadata": {},
   "source": [
    "### Output Using print() function\n",
    "\n",
    "#### We use the print() function to output data to the standard output device (screen). We can also output data to a file, but this will be discussed later."
   ]
  },
  {
   "cell_type": "code",
   "execution_count": 2,
   "metadata": {},
   "outputs": [
    {
     "name": "stdout",
     "output_type": "stream",
     "text": [
      "Hi we are from colearning lounge!\n"
     ]
    }
   ],
   "source": [
    "# simple print funtion is used to print the output in python\n",
    "print(\"Hi we are from colearning lounge!\")"
   ]
  },
  {
   "cell_type": "markdown",
   "metadata": {},
   "source": [
    "### Their are many ways to print a particular object in python\n",
    "### Important Note in pyhton each and every thing is an ibject"
   ]
  },
  {
   "cell_type": "code",
   "execution_count": 29,
   "metadata": {},
   "outputs": [
    {
     "name": "stdout",
     "output_type": "stream",
     "text": [
      "colearning lounge\n",
      "\n",
      "we are from colearning lounge\n",
      "\n",
      "Hello John, Goodmorning\n",
      "The value of x is 5 and y is 10\n"
     ]
    }
   ],
   "source": [
    "#lets see how to output a particular varable in python\n",
    "name = \"colearning lounge\"\n",
    "print(name)\n",
    "print\n",
    "\n",
    "# printing a variable along with the string usinf %s for string %d for int etc\n",
    "print(\"we are from %s\"%name)\n",
    "print\n",
    "\n",
    "#printing using the .format this .format is very use and make our code more readable.\n",
    "print('Hello {name}, {greeting}'.format(greeting = 'Goodmorning', name = 'John'))\n",
    "\n",
    "x = 5; y = 10\n",
    "print('The value of x is {} and y is {}'.format(x,y))"
   ]
  },
  {
   "cell_type": "markdown",
   "metadata": {},
   "source": [
    "#### Not only the normal variable like string, int we can also print the list, tuple and dictonaries also using the print function"
   ]
  },
  {
   "cell_type": "code",
   "execution_count": 9,
   "metadata": {},
   "outputs": [
    {
     "name": "stdout",
     "output_type": "stream",
     "text": [
      "['We', 'are', 'from', 'India']\n",
      "\n",
      "Iterating over list and printing\n",
      "\n",
      "We\n",
      "are\n",
      "from\n",
      "India\n"
     ]
    }
   ],
   "source": [
    "# Printing the list \n",
    "name_list = ['We', 'are', 'from', 'India']\n",
    "print(name_list)\n",
    "\n",
    "#simple print function output a newline\n",
    "print\n",
    "\n",
    "# we can print the each and every valu of the list by iteration\n",
    "print(\"Iterating over list and printing\")\n",
    "print\n",
    "\n",
    "for name in name_list:\n",
    "    print(name)"
   ]
  },
  {
   "cell_type": "markdown",
   "metadata": {},
   "source": [
    "<h1 align='center'> Python Output</h1>"
   ]
  },
  {
   "cell_type": "markdown",
   "metadata": {},
   "source": [
    "#### Up until now, our programs were static. The value of variables was defined or hard coded into the source code.\n",
    "\n",
    "#### To allow flexibility, we might want to take the input from the user. In Python, we have the input() function to allow this. The syntax for input() is"
   ]
  },
  {
   "cell_type": "code",
   "execution_count": 33,
   "metadata": {},
   "outputs": [
    {
     "name": "stdout",
     "output_type": "stream",
     "text": [
      "yogesh\n",
      "My name is yogesh\n"
     ]
    }
   ],
   "source": [
    "# their are differnt way we can use the input function\n",
    "#simply letrs see how to take input a string\n",
    "\n",
    "name = raw_input()\n",
    "print(\"My name is %s\"%name)"
   ]
  },
  {
   "cell_type": "code",
   "execution_count": 34,
   "metadata": {},
   "outputs": [
    {
     "name": "stdout",
     "output_type": "stream",
     "text": [
      "23\n",
      "DUration of my short film is 23\n"
     ]
    }
   ],
   "source": [
    "# if we want take integrer as a input we can type cast the input\n",
    "duration = int(input())\n",
    "print(\"DUration of my short film is %d\"%duration)"
   ]
  },
  {
   "cell_type": "code",
   "execution_count": 40,
   "metadata": {},
   "outputs": [
    {
     "name": "stdout",
     "output_type": "stream",
     "text": [
      "1 2 3 4\n",
      "[1, 2, 3, 4]\n"
     ]
    }
   ],
   "source": [
    "#In most of the competetive programming we see that we need to take the space separated input so ets see\n",
    "\n",
    "numbers =  map(int, raw_input().split())\n",
    "print numbers"
   ]
  },
  {
   "cell_type": "code",
   "execution_count": null,
   "metadata": {},
   "outputs": [],
   "source": []
  }
 ],
 "metadata": {
  "kernelspec": {
   "display_name": "Python 2",
   "language": "python",
   "name": "python2"
  },
  "language_info": {
   "codemirror_mode": {
    "name": "ipython",
    "version": 2
   },
   "file_extension": ".py",
   "mimetype": "text/x-python",
   "name": "python",
   "nbconvert_exporter": "python",
   "pygments_lexer": "ipython2",
   "version": "2.7.17"
  }
 },
 "nbformat": 4,
 "nbformat_minor": 2
}
