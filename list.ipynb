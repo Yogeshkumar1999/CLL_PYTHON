{
 "cells": [
  {
   "cell_type": "markdown",
   "metadata": {},
   "source": [
    "# Python List\n",
    "First thing is first about the list it is one of the many data structure in python.\n",
    "<br>\n",
    "So first thing that every one do while learning new thing is they  will try to corelate the things with their previous knowlegde.\n",
    "\n",
    "If your are not doing this just give it a shot you will learn new thing easily.\n",
    "\n",
    "So now the late is over, let us try to corelate the things.\n",
    "\n",
    "I think every computer science student know about the array data structure it is in each and every programming language from c to cpp to java to java script.\n",
    "\n",
    "If you dont know about what array is and what it does is try this link.\n",
    "\n",
    "So by now we all know what array is, it's just a data structure which try to store data values in sequential order either int, float, charecter right.\n",
    "\n",
    "What i mean the word sequential is:\n",
    "1. The order of values won't changes which means it will maintain the insertion order.\n",
    "For example:\n",
    " we have inserted 1 in to the array and then 2, 3 4, .....\n",
    " when you prin the array you can see it will print\n",
    " Output:\n",
    "     1, 2, 3, 4 ..(which mean it follows the input order\n",
    "     \n",
    "2. It will store the values in sequential block of memory.\n",
    "\n",
    "Example: ##### Will add\n",
    "\n",
    "so array is also almost similar to the python list.\n",
    "\n",
    "Pyhton list is also an array but with some more features than array.\n",
    "\n",
    "For example: In array we can only insert one data type either int, float or string. But list is independent of the data type of the values in it we can insert any data type value in to the list.\n",
    "\n",
    "A list is a collection which is ordered and changeable. In Python lists are written with square brackets.\n",
    "The list is a most versatile datatype available in Python which can be written as a list of comma-separated values (items) between square brackets. Important thing about a list is that items in a list need not be of the same type.\n",
    "\n",
    "A single list may contain DataTypes like Integers, Strings, as well as Objects. Lists are mutable, and hence, they can be altered even after their creation.\n",
    "\n",
    "I think by now we know that the size of the list is dynamic like vector in cpp.\n",
    "\n",
    "so lets see the syntax of the list. \n",
    "\n",
    "\n",
    "1. List has no data type we can insert any type of data in to the list.\n",
    "<br>\n",
    "for example:\n",
    "<br>\n",
    "==> generic_list = [1,'c', 2.4]\n",
    "<br>\n",
    "so that \n",
    "numbers_list = [1,2,3,4].\n"
   ]
  },
  {
   "cell_type": "code",
   "execution_count": 9,
   "metadata": {},
   "outputs": [
    {
     "name": "stdout",
     "output_type": "stream",
     "text": [
      "Empty list:  []\n",
      "Interger list [1, 2, 3]\n",
      "mixed data types list [1, 'Hello', 3.4]\n"
     ]
    }
   ],
   "source": [
    "# Creating a List \n",
    "List = [] \n",
    "print(\"Blank List: \") \n",
    "print(List) \n",
    "  \n",
    "# Creating a List of numbers \n",
    "List = [10, 20, 14] \n",
    "print(\"\\nList of numbers: \") \n",
    "print(List)\n",
    "\n",
    "# list with mixed data types\n",
    "my_list = [1, \"Hello\", 3.4]\n",
    "print \"mixed data types list\", my_list"
   ]
  },
  {
   "cell_type": "markdown",
   "metadata": {},
   "source": [
    "### So above we have seen how to create a empty list, list with values and also list with different data type values \n",
    "\n",
    "#### Now lets see some more example to better under stand list"
   ]
  },
  {
   "cell_type": "code",
   "execution_count": 28,
   "metadata": {},
   "outputs": [
    {
     "name": "stdout",
     "output_type": "stream",
     "text": [
      "\n",
      "List with the use of Numbers: \n",
      "[1, 2, 4, 4, 3, 3, 3, 6, 5]\n",
      "\n",
      "List with the use of Mixed Values: \n",
      "[1, 2, 'Geeks', 4, 'For', 6, 'Geeks']\n"
     ]
    }
   ],
   "source": [
    "# Creating a List with  \n",
    "# the use of Numbers \n",
    "# (Having duplicate values) \n",
    "my_list = [1, 2, 4, 4, 3, 3, 3, 6, 5] \n",
    "print(\"\\nList with the use of Numbers: \") \n",
    "print(my_list) \n",
    "  \n",
    "# Creating a List with  \n",
    "# mixed type of values \n",
    "# (Having numbers and strings) \n",
    "my_list = [1, 2, 'Geeks', 4, 'For', 6, 'Geeks'] \n",
    "print(\"\\nList with the use of Mixed Values: \") \n",
    "print(my_list)"
   ]
  },
  {
   "cell_type": "markdown",
   "metadata": {},
   "source": [
    "#### Up to now we have seen how to create a list in python now to retrive the data from the list.\n",
    "\n",
    "                                # Accessing elements from the List\n",
    "#### In order to access the list items refer to the index number.Use the index operator [ ] to access an item in a list.The index must be an integer.Nested list are accessed using nested indexing.\n",
    "\n"
   ]
  },
  {
   "cell_type": "code",
   "execution_count": 18,
   "metadata": {},
   "outputs": [
    {
     "name": "stdout",
     "output_type": "stream",
     "text": [
      "first element in the list is: 1\n",
      "second element in the list is: 2\n",
      "\n",
      "\n",
      "lenght of the my_list is: 10\n"
     ]
    }
   ],
   "source": [
    "## list of numbers\n",
    "my_list = [1, 2, 3, 4, 5, 6, 7, 8, 9, 10]\n",
    "\n",
    "# By default in list the index starts with 0. which mean to retrive first element in the list we need to use\n",
    "print \"first element in the list is:\",my_list[0]\n",
    "print \"second element in the list is:\", my_list[1]\n",
    "\n",
    "#Now to check the lenght of the list we have len() function\n",
    "print \n",
    "print\n",
    "print \"lenght of the my_list is:\", len(my_list)"
   ]
  },
  {
   "cell_type": "markdown",
   "metadata": {},
   "source": [
    "#### In Python, negative sequence indexes represent positions from the end of the array. Instead of having to compute the offset as in List[len(List)-3], it is enough to just write List[-3]. Negative indexing means beginning from the end, -1 refers to the last item, -2 refers to the second last item etc."
   ]
  },
  {
   "cell_type": "code",
   "execution_count": null,
   "metadata": {},
   "outputs": [],
   "source": [
    "#Retrive the last element from the list.\n",
    "print \"last element in the list is:\", my_list[-1]\n",
    "\n",
    "print \"first element from in the list is:\", my_list[-10]"
   ]
  },
  {
   "cell_type": "markdown",
   "metadata": {},
   "source": [
    "#### Upto now we have seen how to initalise the list and how to retrive the data from the list now we will see how to add data to the list.\n",
    "\n",
    "##### Elements can be added to the List by using built-in append() function. Only one element at a time can be added to the list by using append() method, for addition of multiple elements with the append() method, loops are used. \n"
   ]
  },
  {
   "cell_type": "code",
   "execution_count": 22,
   "metadata": {},
   "outputs": [
    {
     "name": "stdout",
     "output_type": "stream",
     "text": [
      "Brfore appending the data  []\n",
      "After appending the data : [1, 2]\n"
     ]
    }
   ],
   "source": [
    "# create a emptylist and data in to the list using append()\n",
    "my_list = []\n",
    "\n",
    "# Before appending the data in tot he list\n",
    "print \"Brfore appending the data \", my_list\n",
    "# appending the data in to the list.\n",
    "my_list.append(1)\n",
    "my_list.append(2)\n",
    "\n",
    "#after appending the data in tot he list.\n",
    "print \"After appending the data :\", my_list"
   ]
  },
  {
   "cell_type": "markdown",
   "metadata": {},
   "source": [
    "#### As we have seen their are many lines of append so we can use loops for it"
   ]
  },
  {
   "cell_type": "code",
   "execution_count": 24,
   "metadata": {},
   "outputs": [
    {
     "name": "stdout",
     "output_type": "stream",
     "text": [
      "[0, 1, 2, 3, 4, 5, 6, 7, 8, 9]\n"
     ]
    }
   ],
   "source": [
    "my_list = []\n",
    "for i in range(10):\n",
    "    my_list.append(i)\n",
    "\n",
    "print my_list\n"
   ]
  },
  {
   "cell_type": "markdown",
   "metadata": {},
   "source": [
    "So you may think what the range function do?\n",
    "\n",
    "First thiing about the range function is it internally creates a list.\n",
    "\n",
    "Its kind of wierd but it has many uses to it\n",
    "\n",
    "#### up to now we have seen how to use append and range function lets explore some more insertion type in list\n",
    "\n",
    "#### append() method only works for addition of elements at the end of the List, for addition of element at the desired position, insert() method is used. Unlike append() which takes only one argument, insert() method requires two arguments(position, value)."
   ]
  },
  {
   "cell_type": "code",
   "execution_count": 29,
   "metadata": {},
   "outputs": [
    {
     "name": "stdout",
     "output_type": "stream",
     "text": [
      "[1, 2, 4, 'Geeks', 4, 'For', 6, 'Geeks']\n"
     ]
    }
   ],
   "source": [
    "# we can insert the data into the list using insert function \n",
    "# insert function takes mainly two arguments index where to insert and value to insert\n",
    "index = 2\n",
    "value_to_insert = 4\n",
    "my_list.insert(index, value_to_insert)\n",
    "print my_list"
   ]
  },
  {
   "cell_type": "markdown",
   "metadata": {},
   "source": [
    "From the above we have seen that initally the value at the index 2 is 2 but after we have inserted the value 4 at the 2 index.\n",
    "\n",
    "#### Other than append() and insert() methods, there’s one more method for Addition of elements, extend(), this method is used to add multiple elements at the same time at the end of the list."
   ]
  },
  {
   "cell_type": "code",
   "execution_count": 30,
   "metadata": {},
   "outputs": [
    {
     "name": "stdout",
     "output_type": "stream",
     "text": [
      "Initial List: \n",
      "[1, 2, 3, 4]\n",
      "\n",
      "List after performing Extend Operation: \n",
      "[1, 2, 3, 4, 8, 'Geeks', 'Always']\n"
     ]
    }
   ],
   "source": [
    "my_list = [1,2,3,4] \n",
    "print(\"Initial List: \") \n",
    "print(my_list) \n",
    "  \n",
    "# Addition of multiple elements \n",
    "# to the List at the end \n",
    "# (using Extend Method) \n",
    "my_list.extend([8, 'Geeks', 'Always']) \n",
    "print(\"\\nList after performing Extend Operation: \") \n",
    "print(my_list)"
   ]
  },
  {
   "cell_type": "markdown",
   "metadata": {},
   "source": [
    "                               Removing Elements from the List\n",
    "Using remove() method\n",
    "Elements can be removed from the List by using built-in remove() function but an Error arises if element doesn’t exist in the set. Remove() method only removes one element at a time, to remove range of elements, iterator is used. The remove() method removes the specified item.\n",
    "\n",
    "Note – Remove method in List will only remove the first occurrence of the searched element."
   ]
  },
  {
   "cell_type": "code",
   "execution_count": 32,
   "metadata": {},
   "outputs": [
    {
     "name": "stdout",
     "output_type": "stream",
     "text": [
      " Intial List: \n",
      "[1, 2, 3, 4, 5, 6, 7, 8, 9, 10, 11, 12]\n",
      "\n",
      "List after Removal of two elements: \n",
      "[1, 2, 3, 4, 7, 8, 9, 10, 11, 12]\n",
      "\n",
      "List after Removing a range of elements: \n",
      "[7, 8, 9, 10, 11, 12]\n"
     ]
    }
   ],
   "source": [
    "# Python program to demonstrate  \n",
    "# Removal of elements in a List \n",
    "  \n",
    "# Creating a List \n",
    "my_list = [1, 2, 3, 4, 5, 6,  \n",
    "        7, 8, 9, 10, 11, 12] \n",
    "print(\"Intial List: \") \n",
    "print(my_list) \n",
    "  \n",
    "# Removing elements from List \n",
    "# using Remove() method \n",
    "my_list.remove(5) \n",
    "my_list.remove(6) \n",
    "print(\"\\nList after Removal of two elements: \") \n",
    "print(my_list) \n",
    "  \n",
    "# Removing elements from List \n",
    "# using iterator method \n",
    "for i in range(1, 5): \n",
    "    my_list.remove(i) \n",
    "print(\"\\nList after Removing a range of elements: \") \n",
    "print(my_list)"
   ]
  },
  {
   "cell_type": "markdown",
   "metadata": {},
   "source": [
    "                                Using pop() method\n",
    "Pop() function can also be used to remove and return an element from the set, but by default it removes only the last element of the set, to remove element from a specific position of the List, index of the element is passed as an argument to the pop() method."
   ]
  },
  {
   "cell_type": "code",
   "execution_count": 33,
   "metadata": {},
   "outputs": [
    {
     "name": "stdout",
     "output_type": "stream",
     "text": [
      "\n",
      "List after popping an element: \n",
      "[1, 2, 3, 4]\n",
      "\n",
      "List after popping a specific element: \n",
      "[1, 2, 4]\n"
     ]
    }
   ],
   "source": [
    "my_list = [1,2,3,4,5] \n",
    "  \n",
    "# Removing element from the  \n",
    "# Set using the pop() method \n",
    "my_list.pop() \n",
    "print(\"\\nList after popping an element: \") \n",
    "print(my_list) \n",
    "  \n",
    "# Removing element at a  \n",
    "# specific location from the  \n",
    "# Set using the pop() method \n",
    "my_list.pop(2) \n",
    "print(\"\\nList after popping a specific element: \") \n",
    "print(my_list)"
   ]
  },
  {
   "cell_type": "markdown",
   "metadata": {},
   "source": [
    "                                Slicing of a List\n",
    "In Python List, there are multiple ways to print the whole List with all the elements, but to print a specific range of elements from the list, we use Slice operation. Slice operation is performed on Lists with the use of colon(:). To print elements from beginning to a range use [:Index], to print elements from end use [:-Index], to print elements from specific Index till the end use [Index:], to print elements within a range, use [Start Index:End Index] and to print whole List with the use of slicing operation, use [:]. Further, to print whole List in reverse order, use [::-1].\n",
    "\n",
    "Note – To print elements of List from rear end, use Negative Indexes.\n"
   ]
  },
  {
   "cell_type": "code",
   "execution_count": 35,
   "metadata": {},
   "outputs": [
    {
     "name": "stdout",
     "output_type": "stream",
     "text": [
      "Intial List: \n",
      "['C', 'O', 'L', 'E', 'A', 'R', 'N', 'I', 'N', 'G', 'L', 'O', 'U', 'N', 'G', 'E']\n",
      "\n",
      "Slicing elements in a range 2-10: \n",
      "['L', 'E', 'A', 'R', 'N', 'I', 'N', 'G']\n",
      "\n",
      "Elements sliced from 10th element till the end: \n",
      "['L', 'O', 'U', 'N', 'G', 'E']\n",
      "\n",
      "Printing all elements using slice operation: \n",
      "['C', 'O', 'L', 'E', 'A', 'R', 'N', 'I', 'N', 'G', 'L', 'O', 'U', 'N', 'G', 'E']\n"
     ]
    }
   ],
   "source": [
    "# Python program to demonstrate  \n",
    "# Removal of elements in a List \n",
    "  \n",
    "# Creating a List \n",
    "my_list = ['C', 'O', 'L', 'E', 'A', 'R', 'N', 'I', 'N', 'G', 'L', 'O', 'U', 'N', 'G', 'E'] \n",
    "print(\"Intial List: \") \n",
    "print(my_list) \n",
    "  \n",
    "# Print elements of a range \n",
    "# using Slice operation \n",
    "Sliced_List = my_list[2:10] \n",
    "print(\"\\nSlicing elements in a range 2-10: \") \n",
    "print(Sliced_List) \n",
    "  \n",
    "# Print elements from a  \n",
    "# pre-defined point to end \n",
    "Sliced_List = my_list[10:] \n",
    "print(\"\\nElements sliced from 10th \"\n",
    "      \"element till the end: \") \n",
    "print(Sliced_List) \n",
    "  \n",
    "# Printing elements from \n",
    "# beginning till end \n",
    "Sliced_List = my_list[:] \n",
    "print(\"\\nPrinting all elements using slice operation: \") \n",
    "print(Sliced_List)"
   ]
  },
  {
   "cell_type": "markdown",
   "metadata": {},
   "source": [
    "#### Negative index List slicing"
   ]
  },
  {
   "cell_type": "code",
   "execution_count": 38,
   "metadata": {},
   "outputs": [
    {
     "name": "stdout",
     "output_type": "stream",
     "text": [
      "Initial List: \n",
      "['C', 'O', 'L', 'E', 'A', 'R', 'N', 'I', 'N', 'G', 'L', 'O', 'U', 'N', 'G', 'E']\n",
      "\n",
      "Elements sliced till 6th element from last: \n",
      "['C', 'O', 'L', 'E', 'A', 'R', 'N', 'I', 'N', 'G']\n",
      "\n",
      "Elements sliced from index -6 to -1\n",
      "['L', 'O', 'U', 'N', 'G']\n",
      "\n",
      "Printing List in reverse: \n",
      "['E', 'G', 'N', 'U', 'O', 'L', 'G', 'N', 'I', 'N', 'R', 'A', 'E', 'L', 'O', 'C']\n"
     ]
    }
   ],
   "source": [
    "# Creating a List \n",
    "my_list = ['C', 'O', 'L', 'E', 'A', 'R', 'N', 'I', 'N', 'G',\n",
    "           'L', 'O', 'U', 'N', 'G', 'E']  \n",
    "print(\"Initial List: \") \n",
    "print(my_list) \n",
    "  \n",
    "# Print elements from beginning \n",
    "# to a pre-defined point using Slice \n",
    "Sliced_List = my_list[:-6] \n",
    "print(\"\\nElements sliced till 6th element from last: \") \n",
    "print(Sliced_List) \n",
    "  \n",
    "# Print elements of a range \n",
    "# using negative index List slicing \n",
    "Sliced_List = my_list[-6:-1] \n",
    "print(\"\\nElements sliced from index -6 to -1\") \n",
    "print(Sliced_List) \n",
    "  \n",
    "# Printing elements in reverse \n",
    "# using Slice operation \n",
    "Sliced_List = my_list[::-1] \n",
    "print(\"\\nPrinting List in reverse: \") \n",
    "print(Sliced_List)"
   ]
  },
  {
   "cell_type": "code",
   "execution_count": null,
   "metadata": {},
   "outputs": [],
   "source": []
  }
 ],
 "metadata": {
  "kernelspec": {
   "display_name": "Python 2",
   "language": "python",
   "name": "python2"
  },
  "language_info": {
   "codemirror_mode": {
    "name": "ipython",
    "version": 2
   },
   "file_extension": ".py",
   "mimetype": "text/x-python",
   "name": "python",
   "nbconvert_exporter": "python",
   "pygments_lexer": "ipython2",
   "version": "2.7.17"
  }
 },
 "nbformat": 4,
 "nbformat_minor": 2
}
