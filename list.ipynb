{
 "cells": [
  {
   "cell_type": "markdown",
   "metadata": {},
   "source": [
    "# Python List\n",
    "First thing is first about the list it is one of the many data structure in python.\n",
    "<br>\n",
    "So first thing that every one do while learning new thing is they  will try to corelate the things with their previous knowlegde.\n",
    "\n",
    "If your are not doing this just give it a shot you will learn new thing easily.\n",
    "\n",
    "So now the late is over, let us try to corelate the things.\n",
    "\n",
    "I think every computer science student know about the array data structure it is in each and every programming language from c to cpp to java to java script.\n",
    "\n",
    "If you dont know about what array is and what it does is try this<link>.\n",
    "\n",
    "So by now we all know what array is it's just a data structure wich try to store data values in sequential order either int, float, charecter right.\n",
    "\n",
    "What i mean the word sequential is:\n",
    "1. The order of values wont changes which means the order of the elemnts in the array is a we insert in to the array\n",
    "For example:\n",
    " we have inserted 1 in to the array and then 2, 3 4, .....\n",
    " when you prin the array you can see it will print\n",
    " Output:\n",
    "     1, 2, 3, 4 ..(which mean it follows the input order\n",
    "     \n",
    "2. It will store the values in sequential block of memory.\n",
    "Example:\n",
    "\n",
    "so array is also alomst similar to the python list.\n",
    "\n",
    "Pyhton list is also an array but with some more features than array for example in array we can only insert one data tytpe either int, float or string but list is independent of the data type of the values in it we can insert any data type value in yo the list.\n",
    "\n",
    "I think by now we can know that the size of the list is dynamic like vector in cpp.\n",
    "\n",
    "so lets see the syntax of the list. \n",
    "\n",
    "A list is a collection which is ordered and changeable. In Python lists are written with square brackets.\n",
    "The list is a most versatile datatype available in Python which can be written as a list of comma-separated values (items) between square brackets. Important thing about a list is that items in a list need not be of the same type.\n",
    "\n",
    "1. List has no data type we can insert any type of data in to the list.\n",
    "<br>\n",
    "for example:\n",
    "<br>\n",
    "==> generic_list = [1,'c', 2.4]\n",
    "<br>\n",
    "so that \n",
    "numbers_list = [1,2,3,4].\n"
   ]
  },
  {
   "cell_type": "code",
   "execution_count": 8,
   "metadata": {},
   "outputs": [],
   "source": [
    "# empty list\n",
    "my_list = []\n",
    "\n",
    "# list of integers\n",
    "my_list = [1, 2, 3]\n",
    "\n",
    "# list with mixed data types\n",
    "my_list = [1, \"Hello\", 3.4]"
   ]
  },
  {
   "cell_type": "code",
   "execution_count": 7,
   "metadata": {},
   "outputs": [
    {
     "name": "stdout",
     "output_type": "stream",
     "text": [
      "[1, 'c', 2.5]\n",
      "<type 'type'>\n",
      "[1, 2, 3]\n",
      "<type 'list'>\n"
     ]
    }
   ],
   "source": [
    "#Lets inialist generiuc list mean different data type in one list\n",
    "generic_list = [1,'c', 2.5]\n",
    "print generic_list\n",
    "#lets see the type of the data stucture\n",
    "#type() function will show us the type of the data structure it is \n",
    "print type(list)\n",
    "\n",
    "#let see a numeric list\n",
    "numeric_list = [1,2,3]\n",
    "print numeric_list\n",
    "#data type iof the this list\n",
    "print type(numeric_list)"
   ]
  },
  {
   "cell_type": "code",
   "execution_count": null,
   "metadata": {},
   "outputs": [],
   "source": []
  }
 ],
 "metadata": {
  "kernelspec": {
   "display_name": "Python 2",
   "language": "python",
   "name": "python2"
  },
  "language_info": {
   "codemirror_mode": {
    "name": "ipython",
    "version": 2
   },
   "file_extension": ".py",
   "mimetype": "text/x-python",
   "name": "python",
   "nbconvert_exporter": "python",
   "pygments_lexer": "ipython2",
   "version": "2.7.17"
  }
 },
 "nbformat": 4,
 "nbformat_minor": 2
}
