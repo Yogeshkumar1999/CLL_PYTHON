{
 "cells": [
  {
   "cell_type": "markdown",
   "metadata": {},
   "source": [
    "# Python List\n",
    "First thing is first about the list it is one of the many data structure in python.\n",
    "<br>\n",
    "So first thing that every one do while learning new thing is they  will try to corelate the things with their previous knowlegde.\n",
    "\n",
    "If your are not doing this just give it a shot you will learn new thing easily.\n",
    "\n",
    "So now the late is over, let us try to corelate the things.\n",
    "\n",
    "I think every computer science student know about the array data structure it is in each and every programming language from c to cpp to java to java script.\n",
    "\n",
    "If you dont know about what array is and what it does is try this link.\n",
    "\n",
    "So by now we all know what array is, it's just a data structure which try to store data values in sequential order either int, float, charecter right.\n",
    "\n",
    "What i mean the word sequential is:\n",
    "1. The order of values won't changes which means it will maintain the insertion order.\n",
    "For example:\n",
    " we have inserted 1 in to the array and then 2, 3 4, .....\n",
    " when you prin the array you can see it will print\n",
    " Output:\n",
    "     1, 2, 3, 4 ..(which mean it follows the input order\n",
    "     \n",
    "2. It will store the values in sequential block of memory.\n",
    "\n",
    "Example: ##### Will add\n",
    "\n",
    "so array is also almost similar to the python list.\n",
    "\n",
    "Pyhton list is also an array but with some more features than array.\n",
    "\n",
    "For example: In array we can only insert one data type either int, float or string. But list is independent of the data type of the values in it we can insert any data type value in to the list.\n",
    "\n",
    "A list is a collection which is ordered and changeable. In Python lists are written with square brackets.\n",
    "The list is a most versatile datatype available in Python which can be written as a list of comma-separated values (items) between square brackets. Important thing about a list is that items in a list need not be of the same type.\n",
    "\n",
    "I think by now we know that the size of the list is dynamic like vector in cpp.\n",
    "\n",
    "so lets see the syntax of the list. \n",
    "\n",
    "\n",
    "1. List has no data type we can insert any type of data in to the list.\n",
    "<br>\n",
    "for example:\n",
    "<br>\n",
    "==> generic_list = [1,'c', 2.4]\n",
    "<br>\n",
    "so that \n",
    "numbers_list = [1,2,3,4].\n"
   ]
  },
  {
   "cell_type": "code",
   "execution_count": 9,
   "metadata": {},
   "outputs": [
    {
     "name": "stdout",
     "output_type": "stream",
     "text": [
      "Empty list:  []\n",
      "Interger list [1, 2, 3]\n",
      "mixed data types list [1, 'Hello', 3.4]\n"
     ]
    }
   ],
   "source": [
    "# empty list\n",
    "my_list = []\n",
    "print \"Empty list: \", my_list\n",
    "\n",
    "# list of integers\n",
    "my_list = [1, 2, 3]\n",
    "print \"Interger list\", my_list\n",
    "\n",
    "# list with mixed data types\n",
    "my_list = [1, \"Hello\", 3.4]\n",
    "print \"mixed data types list\", my_list"
   ]
  },
  {
   "cell_type": "markdown",
   "metadata": {},
   "source": [
    "### So above we have seen how to create a empty list, list with values and also list with different data type values \n",
    "\n",
    "#### Now lets see some more example to better under stand list"
   ]
  },
  {
   "cell_type": "code",
   "execution_count": 7,
   "metadata": {},
   "outputs": [
    {
     "name": "stdout",
     "output_type": "stream",
     "text": [
      "[1, 'c', 2.5]\n",
      "<type 'type'>\n",
      "[1, 2, 3]\n",
      "<type 'list'>\n"
     ]
    }
   ],
   "source": [
    "#Lets inialist generiuc list mean different data type in one list\n",
    "generic_list = [1,'c', 2.5]\n",
    "print generic_list\n",
    "#lets see the type of the data stucture\n",
    "#type() function will show us the type of the data structure it is \n",
    "print type(list)\n",
    "\n",
    "#let see a numeric list\n",
    "numeric_list = [1,2,3]\n",
    "print numeric_list\n",
    "#data type iof the this list\n",
    "print type(numeric_list)"
   ]
  },
  {
   "cell_type": "markdown",
   "metadata": {},
   "source": [
    "#### Up to now we have seen how to create a list in python now to retrive the data from the list.\n",
    "#### So when ever we need to retrive any value from the list we need to retrive value using its index."
   ]
  },
  {
   "cell_type": "code",
   "execution_count": 18,
   "metadata": {},
   "outputs": [
    {
     "name": "stdout",
     "output_type": "stream",
     "text": [
      "first element in the list is: 1\n",
      "second element in the list is: 2\n",
      "\n",
      "\n",
      "lenght of the my_list is: 10\n"
     ]
    }
   ],
   "source": [
    "## list of numbers\n",
    "my_list = [1, 2, 3, 4, 5, 6, 7, 8, 9, 10]\n",
    "\n",
    "# By default in list the index starts with 0. which mean to retrive first element in the list we need to use\n",
    "print \"first element in the list is:\",my_list[0]\n",
    "print \"second element in the list is:\", my_list[1]\n",
    "\n",
    "#Now to check the lenght of the list we have len() function\n",
    "print \n",
    "print\n",
    "print \"lenght of the my_list is:\", len(my_list)"
   ]
  },
  {
   "cell_type": "markdown",
   "metadata": {},
   "source": [
    "#### In python list their is another feature which is not their in array is we can retrive data fom the backside also"
   ]
  },
  {
   "cell_type": "code",
   "execution_count": 21,
   "metadata": {},
   "outputs": [
    {
     "name": "stdout",
     "output_type": "stream",
     "text": [
      " last element in the list is: 10\n",
      "first element from in the list is: 1\n"
     ]
    }
   ],
   "source": [
    "#Retrive the last element from the list.\n",
    "print \"last element in the list is:\", my_list[-1]\n",
    "\n",
    "print \"first element from in the list is:\", my_list[-10]"
   ]
  },
  {
   "cell_type": "markdown",
   "metadata": {},
   "source": [
    "#### Upto now we have seen how to initalise the list and how to retrive the data from the list now we will see how to add data to the list.\n",
    "\n",
    "Their are many way to insert data in to the list on of the popular finction is append()"
   ]
  },
  {
   "cell_type": "code",
   "execution_count": 22,
   "metadata": {},
   "outputs": [
    {
     "name": "stdout",
     "output_type": "stream",
     "text": [
      "Brfore appending the data  []\n",
      "After appending the data : [1, 2]\n"
     ]
    }
   ],
   "source": [
    "# create a emptylist and data in to the list using append()\n",
    "my_list = []\n",
    "\n",
    "# Before appending the data in tot he list\n",
    "print \"Brfore appending the data \", my_list\n",
    "# appending the data in to the list.\n",
    "my_list.append(1)\n",
    "my_list.append(2)\n",
    "\n",
    "#after appending the data in tot he list.\n",
    "print \"After appending the data :\", my_list"
   ]
  },
  {
   "cell_type": "markdown",
   "metadata": {},
   "source": [
    "#### As we have seen their are many lines of append so we can use loops for it"
   ]
  },
  {
   "cell_type": "code",
   "execution_count": 24,
   "metadata": {},
   "outputs": [
    {
     "name": "stdout",
     "output_type": "stream",
     "text": [
      "[0, 1, 2, 3, 4, 5, 6, 7, 8, 9]\n"
     ]
    }
   ],
   "source": [
    "my_list = []\n",
    "for i in range(10):\n",
    "    my_list.append(i)\n",
    "\n",
    "print my_list\n"
   ]
  },
  {
   "cell_type": "markdown",
   "metadata": {},
   "source": [
    "So you may think what the range function do?\n",
    "\n",
    "Its kind of wierd you can think by default range function creates list :)\n",
    "\n"
   ]
  },
  {
   "cell_type": "code",
   "execution_count": null,
   "metadata": {},
   "outputs": [],
   "source": []
  }
 ],
 "metadata": {
  "kernelspec": {
   "display_name": "Python 2",
   "language": "python",
   "name": "python2"
  },
  "language_info": {
   "codemirror_mode": {
    "name": "ipython",
    "version": 2
   },
   "file_extension": ".py",
   "mimetype": "text/x-python",
   "name": "python",
   "nbconvert_exporter": "python",
   "pygments_lexer": "ipython2",
   "version": "2.7.17"
  }
 },
 "nbformat": 4,
 "nbformat_minor": 2
}
